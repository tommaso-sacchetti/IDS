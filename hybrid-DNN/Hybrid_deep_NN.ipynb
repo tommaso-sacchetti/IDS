{
  "cells": [
    {
      "cell_type": "markdown",
      "metadata": {
        "id": "24xJQNUEMZ1A"
      },
      "source": [
        "# A Hybrid Approach Toward Efficient and Accurate Intrusion Detection for In-Vehicle Networks"
      ]
    },
    {
      "cell_type": "markdown",
      "metadata": {
        "id": "T-OravMkMg6A"
      },
      "source": [
        "Implementation of the hybrid approach Intrusion Detection System for Controller Area Network proposed by Zhang et al. (https://ieeexplore.ieee.org/document/9687591) with a rule-based component and a deep neural network."
      ]
    },
    {
      "cell_type": "markdown",
      "metadata": {
        "id": "uMk029BkO_Nm"
      },
      "source": [
        "## Initial configuration"
      ]
    },
    {
      "cell_type": "markdown",
      "metadata": {
        "id": "34oQaqtxM-jn"
      },
      "source": [
        "### Connect to Drive"
      ]
    },
    {
      "cell_type": "code",
      "execution_count": null,
      "metadata": {
        "colab": {
          "base_uri": "https://localhost:8080/"
        },
        "id": "3nkzyZIkMWLX",
        "outputId": "44a10c2a-e994-41e6-bc4e-d9a6f5ddc25a"
      },
      "outputs": [],
      "source": [
        "from google.colab import drive\n",
        "drive.mount('/gdrive')"
      ]
    },
    {
      "cell_type": "code",
      "execution_count": null,
      "metadata": {
        "colab": {
          "background_save": true,
          "base_uri": "https://localhost:8080/"
        },
        "id": "DvES_NSrNFbm",
        "outputId": "73ddcc25-daeb-4e02-b595-d02bf9140622"
      },
      "outputs": [],
      "source": [
        "%cd /gdrive/MyDrive/Tesi/DNN-Hybrid/"
      ]
    },
    {
      "cell_type": "markdown",
      "metadata": {
        "id": "DV9G7nDaNKC4"
      },
      "source": [
        "### Import Libraries"
      ]
    },
    {
      "cell_type": "code",
      "execution_count": null,
      "metadata": {
        "colab": {
          "base_uri": "https://localhost:8080/"
        },
        "id": "OyNKsDpCN69-",
        "outputId": "691583e6-05ca-4c2c-cad8-d56afacd703a"
      },
      "outputs": [
        {
          "name": "stdout",
          "output_type": "stream",
          "text": [
            "2.0.0+cu118\n"
          ]
        }
      ],
      "source": [
        "import torch\n",
        "import torch.nn as nn\n",
        "import torch.nn.functional as F\n",
        "import numpy as np\n",
        "import os\n",
        "import random\n",
        "import pandas as pd\n",
        "import matplotlib as mpl\n",
        "import matplotlib.pyplot as plt\n",
        "import warnings\n",
        "import logging\n",
        "\n",
        "print(torch.__version__)"
      ]
    },
    {
      "cell_type": "markdown",
      "metadata": {
        "id": "fy6B_U8gN7xV"
      },
      "source": [
        "### Set seed for reproducibility"
      ]
    },
    {
      "cell_type": "code",
      "execution_count": null,
      "metadata": {
        "colab": {
          "base_uri": "https://localhost:8080/"
        },
        "id": "UUKVm6gdNJy-",
        "outputId": "44124137-95e8-4262-a7cb-4f6ce463ee73"
      },
      "outputs": [
        {
          "data": {
            "text/plain": [
              "<torch._C.Generator at 0x7f3971660390>"
            ]
          },
          "execution_count": 2,
          "metadata": {},
          "output_type": "execute_result"
        }
      ],
      "source": [
        "# Random seed for reproducibility\n",
        "seed = 42\n",
        "\n",
        "random.seed(seed)\n",
        "os.environ['PYTHONHASHSEED'] = str(seed)\n",
        "np.random.seed(seed)\n",
        "torch.manual_seed(seed)"
      ]
    },
    {
      "cell_type": "markdown",
      "metadata": {
        "id": "ATfAPIr6PRye"
      },
      "source": [
        "### Set device"
      ]
    },
    {
      "cell_type": "code",
      "execution_count": null,
      "metadata": {
        "id": "w0bC36x-PTj9"
      },
      "outputs": [],
      "source": [
        "# Set device\n",
        "device = torch.device(\"cuda:0\" if torch.cuda.is_available() else \"cpu\")\n",
        "print(\"Device used: {}\".format(device))"
      ]
    },
    {
      "cell_type": "markdown",
      "metadata": {
        "id": "bnSysMCGPbGr"
      },
      "source": [
        "### Suppress warnings"
      ]
    },
    {
      "cell_type": "code",
      "execution_count": null,
      "metadata": {
        "id": "S-G0XuifPlPi"
      },
      "outputs": [],
      "source": []
    },
    {
      "cell_type": "markdown",
      "metadata": {
        "id": "Ji_UoA9_QYrL"
      },
      "source": [
        "## Data elaboration"
      ]
    },
    {
      "cell_type": "markdown",
      "metadata": {
        "id": "nAYpzMXgPm_s"
      },
      "source": [
        "### Load Data"
      ]
    },
    {
      "cell_type": "markdown",
      "metadata": {
        "id": "06yb6FHwQFsL"
      },
      "source": [
        "#### Google dataset"
      ]
    },
    {
      "cell_type": "code",
      "execution_count": null,
      "metadata": {
        "id": "R01VW0OiQKqT"
      },
      "outputs": [],
      "source": []
    },
    {
      "cell_type": "markdown",
      "metadata": {
        "id": "v8myZhfvQJ2r"
      },
      "source": [
        "#### NECST dataset"
      ]
    },
    {
      "cell_type": "code",
      "execution_count": null,
      "metadata": {
        "id": "3vsNH27_QN3b"
      },
      "outputs": [],
      "source": []
    },
    {
      "cell_type": "markdown",
      "metadata": {
        "id": "idTIqLhsQOPX"
      },
      "source": [
        "### Process data"
      ]
    },
    {
      "cell_type": "code",
      "execution_count": null,
      "metadata": {
        "id": "fw3D8GmzQmWM"
      },
      "outputs": [],
      "source": []
    },
    {
      "cell_type": "markdown",
      "metadata": {
        "id": "tQ5aaYUmFbvm"
      },
      "source": [
        "#### Calculate the features"
      ]
    },
    {
      "cell_type": "code",
      "execution_count": null,
      "metadata": {
        "id": "z553r2GjFbS3"
      },
      "outputs": [],
      "source": []
    },
    {
      "cell_type": "markdown",
      "metadata": {
        "id": "Kv_jYt1w_fEV"
      },
      "source": [
        "## RULE-BASED\n",
        "Three rules:\n",
        "- Valid ID\n",
        "- Time interval\n",
        "- valid DLC\n",
        "\n",
        "*doubts on the valid ID (in the paper there's written that it's in the dbc (and that's ok) or in its absence in the CAN trace of a car, which is very much unlikely that all the IDs available will appear, so it could be potentially dangerous for an IDS to block packets just because they were not seen before in the trace*"
      ]
    },
    {
      "cell_type": "code",
      "execution_count": null,
      "metadata": {
        "id": "T4Zyx6hoAFLl"
      },
      "outputs": [],
      "source": [
        "# Valid id rule\n"
      ]
    },
    {
      "cell_type": "code",
      "execution_count": null,
      "metadata": {
        "id": "RjZQyM0TFSw_"
      },
      "outputs": [],
      "source": [
        "# Time interval"
      ]
    },
    {
      "cell_type": "code",
      "execution_count": null,
      "metadata": {
        "id": "LYl-0tdiFVHu"
      },
      "outputs": [],
      "source": [
        "# valid DLC"
      ]
    },
    {
      "cell_type": "markdown",
      "metadata": {
        "id": "0RXYiyvWQnzk"
      },
      "source": [
        "## Model"
      ]
    },
    {
      "cell_type": "markdown",
      "metadata": {
        "id": "kx-2AWUy55uR"
      },
      "source": [
        "5 hidden layers: [100, 100, 80, 60, 40]</br>\n",
        "1 output neuron (binary)</br>\n",
        "ReLu each layer </br>\n",
        "sigmoid output</br>\n",
        "binary cross-entropy as loss function</br> \n",
        "Adam as optimizer</br>"
      ]
    },
    {
      "cell_type": "markdown",
      "metadata": {
        "id": "aRkw5-z6Nb4G"
      },
      "source": [
        "### Model general settings"
      ]
    },
    {
      "cell_type": "code",
      "execution_count": null,
      "metadata": {
        "id": "Qm-CDTt-NbTe"
      },
      "outputs": [],
      "source": [
        "input_dim = 5\n",
        "output_dim = 1\n",
        "\n",
        "n = 40 # number of inputs\n",
        "batch_size = 128\n",
        "epochs = 50\n",
        "early_stopping_patience = 5\n",
        "early_stopping_min_delta = 0\n",
        "lr = 0.001"
      ]
    },
    {
      "cell_type": "markdown",
      "metadata": {
        "id": "jQ5cCPyxSsRd"
      },
      "source": [
        "### Early stopping "
      ]
    },
    {
      "cell_type": "code",
      "execution_count": null,
      "metadata": {
        "id": "UAu2OLZJSvhM"
      },
      "outputs": [],
      "source": [
        "# credits to Massaro\n",
        "# TODO: check if possible the copy otherwise re-implement it\n",
        "\n",
        "class EarlyStopping():\n",
        "    \"\"\"\n",
        "    Early stopping to stop the training when the loss does not improve after\n",
        "    certain epochs.\n",
        "    \"\"\"\n",
        "    def __init__(self, patience=5, min_delta=0):\n",
        "        \"\"\"\n",
        "        :param patience: how many epochs to wait before stopping when loss is\n",
        "               not improving\n",
        "        :param min_delta: minimum difference between new loss and old loss for\n",
        "               new loss to be considered as an improvement\n",
        "        \"\"\"\n",
        "        self.patience = patience\n",
        "        self.min_delta = min_delta\n",
        "        self.counter = 0\n",
        "        self.best_loss = None\n",
        "        self.early_stop = False\n",
        "    def __call__(self, val_loss):\n",
        "        if self.best_loss == None:\n",
        "            self.best_loss = val_loss\n",
        "        elif self.best_loss - val_loss > self.min_delta:\n",
        "            self.best_loss = val_loss\n",
        "            # reset counter if validation loss improves\n",
        "            self.counter = 0\n",
        "        elif self.best_loss - val_loss < self.min_delta:\n",
        "            self.counter += 1\n",
        "            print(f\"INFO: Early stopping counter {self.counter} of {self.patience}\")\n",
        "            if self.counter >= self.patience:\n",
        "                print('INFO: Early stopping')\n",
        "                self.early_stop = True"
      ]
    },
    {
      "cell_type": "code",
      "execution_count": null,
      "metadata": {
        "id": "LrUInCeyS3jQ"
      },
      "outputs": [],
      "source": [
        "\"\"\"\n",
        "early_stopper = EarlyStopper(patience=3, min_delta=10)\n",
        "for epoch in np.arange(n_epochs):\n",
        "    train_loss = train_one_epoch(model, train_loader)\n",
        "    validation_loss = validate_one_epoch(model, validation_loader)\n",
        "    if early_stopper.early_stop(validation_loss):             \n",
        "        break\n",
        "\"\"\""
      ]
    },
    {
      "cell_type": "markdown",
      "metadata": {
        "id": "xwJ9HrLdQrCW"
      },
      "source": [
        "### Build the model"
      ]
    },
    {
      "cell_type": "code",
      "execution_count": null,
      "metadata": {
        "colab": {
          "base_uri": "https://localhost:8080/"
        },
        "id": "qnd0DErxQqtG",
        "outputId": "e72229b4-b3b1-4b17-acbc-e4041390775f"
      },
      "outputs": [
        {
          "name": "stdout",
          "output_type": "stream",
          "text": [
            "DNN(\n",
            "  (fc1): Linear(in_features=5, out_features=100, bias=True)\n",
            "  (fc2): Linear(in_features=100, out_features=100, bias=True)\n",
            "  (fc3): Linear(in_features=100, out_features=80, bias=True)\n",
            "  (fc4): Linear(in_features=80, out_features=60, bias=True)\n",
            "  (fc5): Linear(in_features=60, out_features=5, bias=True)\n",
            "  (out): Linear(in_features=40, out_features=1, bias=True)\n",
            ")\n"
          ]
        }
      ],
      "source": [
        "# import torch.nn as nn\n",
        "\n",
        "class DNN(nn.Module):\n",
        "  def __init__(self, input_dim, output_dim):\n",
        "    super(DNN, self).__init__()\n",
        "    # 5 input features, binary output\n",
        "    self.fc1 = nn.Linear(input_dim, 100)\n",
        "    self.fc2 = nn.Linear(100, 100)\n",
        "    self.fc3 = nn.Linear(100, 80)\n",
        "    self.fc4 = nn.Linear(80, 60)\n",
        "    self.fc5 = nn.Linear(60, 40)\n",
        "    self.out = nn.Linear(40, 1)\n",
        "\n",
        "  def forward(self, x):\n",
        "    x = F.relu(self.fc1(x))\n",
        "    x = F.relu(self.fc2(x))\n",
        "    x = F.relu(self.fc3(x))\n",
        "    x = F.relu(self.fc4(x))\n",
        "    x = F.relu(self.fc5(x))\n",
        "    x = F.sigmoid(self.out(x))\n",
        "    return x\n",
        "\n",
        "net = DNN(input_dim, output_dim)\n",
        "print(net)\n"
      ]
    },
    {
      "cell_type": "markdown",
      "metadata": {
        "id": "XLl6rK1EQwzr"
      },
      "source": [
        "### Train the model"
      ]
    },
    {
      "cell_type": "code",
      "execution_count": null,
      "metadata": {
        "id": "BHVMfY1DQweM"
      },
      "outputs": [],
      "source": []
    },
    {
      "cell_type": "markdown",
      "metadata": {
        "id": "CCL-PtI_Q0PC"
      },
      "source": [
        "### Plot the model"
      ]
    }
  ],
  "metadata": {
    "colab": {
      "collapsed_sections": [
        "XLl6rK1EQwzr"
      ],
      "provenance": []
    },
    "kernelspec": {
      "display_name": "Python 3",
      "name": "python3"
    },
    "language_info": {
      "name": "python"
    }
  },
  "nbformat": 4,
  "nbformat_minor": 0
}
