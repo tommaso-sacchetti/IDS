{
 "cells": [
  {
   "cell_type": "code",
   "execution_count": 1,
   "metadata": {},
   "outputs": [],
   "source": [
    "import pandas as pd\n",
    "import numpy as np\n",
    "from tqdm import tqdm\n",
    "import pickle\n",
    "from pathlib import Path\n",
    "import os\n",
    "import matplotlib.pyplot as plt\n",
    "import time"
   ]
  },
  {
   "cell_type": "code",
   "execution_count": 4,
   "metadata": {},
   "outputs": [],
   "source": [
    "THRESHOLD = 20\n",
    "K = 5\n",
    "OUTPUT_FILENAME = 'periods.npy'\n",
    "CUR_PATH = os.path.abspath('') #os.path.realpath(os.path.join(os.getcwd(), os.path.dirname(__file__)))\n",
    "output_file = (os.path.join(CUR_PATH, OUTPUT_FILENAME))"
   ]
  },
  {
   "cell_type": "code",
   "execution_count": 15,
   "metadata": {},
   "outputs": [
    {
     "name": "stdout",
     "output_type": "stream",
     "text": [
      "/home/tommaso/Desktop/IDS/data/raw.csv\n"
     ]
    }
   ],
   "source": [
    "mod_path = Path(CUR_PATH)\n",
    "relative_path = '../../data/raw.csv'\n",
    "DATA_PATH = (mod_path / relative_path).resolve()  # 'data/raw.csv'\n",
    "print(DATA_PATH)\n",
    "colnames = ['time', 'can', 'id', 'dlc', 'payload']\n",
    "dataset = pd.read_csv(DATA_PATH, names=colnames, header=None)"
   ]
  },
  {
   "cell_type": "code",
   "execution_count": 18,
   "metadata": {},
   "outputs": [
    {
     "name": "stdout",
     "output_type": "stream",
     "text": [
      "(116148, 5)\n",
      "[0.0102191  0.00985408 0.01045489 ... 0.01003599 0.00971985 0.01024914]\n"
     ]
    }
   ],
   "source": [
    "id_periods = dict()\n",
    "id = '0DE'\n",
    "id_packets = dataset.loc[dataset['id'] == id]\n",
    "print(id_packets.shape)\n",
    "times_of_arrival = id_packets['time'].to_numpy()\n",
    "periods = np.diff(times_of_arrival)\n",
    "print(periods)"
   ]
  },
  {
   "cell_type": "code",
   "execution_count": 19,
   "metadata": {},
   "outputs": [],
   "source": [
    "def compute_range(k: int, periods: np.array):\n",
    "    avg = periods.mean()\n",
    "    sigma = periods.std()\n",
    "    range_min = avg - k*sigma\n",
    "    range_max = avg + k*sigma\n",
    "    return range_min,range_max"
   ]
  },
  {
   "cell_type": "code",
   "execution_count": 21,
   "metadata": {},
   "outputs": [
    {
     "data": {
      "image/png": "[encoded data removed]",
      "text/plain": [
       "<Figure size 640x480 with 1 Axes>"
      ]
     },
     "metadata": {},
     "output_type": "display_data"
    }
   ],
   "source": [
    "plt.hist(periods, color='lightgreen', ec='black', bins=100)\n",
    "r_min, r_max = compute_range(K, periods)\n",
    "plt.axvline(r_min, 0, 1, label='min')\n",
    "plt.axvline(r_max, 0, 1, label='max')\n",
    "plt.show()"
   ]
  },
  {
   "cell_type": "code",
   "execution_count": 9,
   "metadata": {},
   "outputs": [
    {
     "ename": "NameError",
     "evalue": "name 'xor' is not defined",
     "output_type": "error",
     "traceback": [
      "\u001b[0;31m---------------------------------------------------------------------------\u001b[0m",
      "\u001b[0;31mNameError\u001b[0m                                 Traceback (most recent call last)",
      "Cell \u001b[0;32mIn[9], line 3\u001b[0m\n\u001b[1;32m      1\u001b[0m s1 \u001b[39m=\u001b[39m \u001b[39m'\u001b[39m\u001b[39m011\u001b[39m\u001b[39m'\u001b[39m\n\u001b[1;32m      2\u001b[0m s2 \u001b[39m=\u001b[39m \u001b[39m'\u001b[39m\u001b[39m010\u001b[39m\u001b[39m'\u001b[39m\n\u001b[0;32m----> 3\u001b[0m \u001b[39mprint\u001b[39m(\u001b[39msum\u001b[39m(xor(s1,s2)))\n",
      "\u001b[0;31mNameError\u001b[0m: name 'xor' is not defined"
     ]
    }
   ],
   "source": [
    "s1 = '011'\n",
    "s2 = '010'\n",
    "print(sum(xor(s1,s2)))"
   ]
  },
  {
   "cell_type": "code",
   "execution_count": 13,
   "metadata": {},
   "outputs": [
    {
     "name": "stdout",
     "output_type": "stream",
     "text": [
      "4\n",
      "--- 0.00012373924255371094 seconds ---\n",
      "4\n",
      "--- 3.647804260253906e-05 seconds ---\n",
      "-8.940696716308594e-05\n"
     ]
    }
   ],
   "source": [
    "from hexhamming import hamming_distance_string\n",
    "import time\n",
    "\n",
    "def hamming(s1, s2):\n",
    "    assert len(s1) == len(s2)\n",
    "    return bin(int(s1,2)^int(s2,2)).count('1')\n",
    "\n",
    "s1 = '01111100'\n",
    "s2 = '01000110'\n",
    "\n",
    "start_time = time.time()\n",
    "print(hamming_distance_string(s1, s2))\n",
    "print(\"--- %s seconds ---\" % (time.time() - start_time))\n",
    "time1 = time.time() - start_time\n",
    "\n",
    "start_time = time.time()\n",
    "print(hamming(s1, s2))\n",
    "print(\"--- %s seconds ---\" % (time.time() - start_time))\n",
    "time2 = time.time() - start_time\n",
    "\n",
    "print(time2 - time1)"
   ]
  },
  {
   "cell_type": "code",
   "execution_count": 2,
   "metadata": {},
   "outputs": [
    {
     "ename": "UFuncTypeError",
     "evalue": "ufunc 'subtract' did not contain a loop with signature matching types (dtype('<U3'), dtype('<U3')) -> None",
     "output_type": "error",
     "traceback": [
      "\u001b[0;31m---------------------------------------------------------------------------\u001b[0m",
      "\u001b[0;31mUFuncTypeError\u001b[0m                            Traceback (most recent call last)",
      "Cell \u001b[0;32mIn[2], line 5\u001b[0m\n\u001b[1;32m      1\u001b[0m \u001b[39mimport\u001b[39;00m \u001b[39mnumpy\u001b[39;00m \u001b[39mas\u001b[39;00m \u001b[39mnp\u001b[39;00m\n\u001b[1;32m      3\u001b[0m a1 \u001b[39m=\u001b[39m np\u001b[39m.\u001b[39marray([\u001b[39m'\u001b[39m\u001b[39m000\u001b[39m\u001b[39m'\u001b[39m,\u001b[39m'\u001b[39m\u001b[39m100\u001b[39m\u001b[39m'\u001b[39m, \u001b[39m'\u001b[39m\u001b[39m111\u001b[39m\u001b[39m'\u001b[39m])\n\u001b[0;32m----> 5\u001b[0m result \u001b[39m=\u001b[39m np\u001b[39m.\u001b[39;49mdiff(a1)\n\u001b[1;32m      6\u001b[0m \u001b[39mprint\u001b[39m(result)\n",
      "File \u001b[0;32m<__array_function__ internals>:200\u001b[0m, in \u001b[0;36mdiff\u001b[0;34m(*args, **kwargs)\u001b[0m\n",
      "File \u001b[0;32m~/.local/lib/python3.10/site-packages/numpy/lib/function_base.py:1448\u001b[0m, in \u001b[0;36mdiff\u001b[0;34m(a, n, axis, prepend, append)\u001b[0m\n\u001b[1;32m   1446\u001b[0m op \u001b[39m=\u001b[39m not_equal \u001b[39mif\u001b[39;00m a\u001b[39m.\u001b[39mdtype \u001b[39m==\u001b[39m np\u001b[39m.\u001b[39mbool_ \u001b[39melse\u001b[39;00m subtract\n\u001b[1;32m   1447\u001b[0m \u001b[39mfor\u001b[39;00m _ \u001b[39min\u001b[39;00m \u001b[39mrange\u001b[39m(n):\n\u001b[0;32m-> 1448\u001b[0m     a \u001b[39m=\u001b[39m op(a[slice1], a[slice2])\n\u001b[1;32m   1450\u001b[0m \u001b[39mreturn\u001b[39;00m a\n",
      "\u001b[0;31mUFuncTypeError\u001b[0m: ufunc 'subtract' did not contain a loop with signature matching types (dtype('<U3'), dtype('<U3')) -> None"
     ]
    }
   ],
   "source": [
    "import numpy as np\n",
    "\n",
    "a1 = np.array(['000','100', '111'])\n",
    "\n",
    "result = np.diff(a1)\n",
    "print(result)"
   ]
  },
  {
   "cell_type": "code",
   "execution_count": 4,
   "metadata": {},
   "outputs": [
    {
     "name": "stdout",
     "output_type": "stream",
     "text": [
      "0b111\n"
     ]
    },
    {
     "data": {
      "text/plain": [
       "3"
      ]
     },
     "execution_count": 4,
     "metadata": {},
     "output_type": "execute_result"
    }
   ],
   "source": [
    "class Solution(object):\n",
    "    def hammingDistance(self, x, y):\n",
    "        \"\"\"\n",
    "        :type x: int\n",
    "        :type y: int\n",
    "        :rtype: int\n",
    "        \"\"\n",
    "        return str(bin(x^y)).count('1')\n",
    "\n",
    "Solution.hammingDistance(2,3,4)"
   ]
  },
  {
   "attachments": {},
   "cell_type": "markdown",
   "metadata": {},
   "source": []
  },
  {
   "cell_type": "code",
   "execution_count": 8,
   "metadata": {},
   "outputs": [
    {
     "name": "stdout",
     "output_type": "stream",
     "text": [
      "3\n"
     ]
    }
   ],
   "source": [
    "print(bin(int('011',2)^int('100',2)).count('1'))"
   ]
  },
  {
   "cell_type": "code",
   "execution_count": 17,
   "metadata": {},
   "outputs": [
    {
     "name": "stdout",
     "output_type": "stream",
     "text": [
      "['0' '1' '10' '11' '100' '101' '110' '111' '1000' '1001']\n"
     ]
    },
    {
     "name": "stderr",
     "output_type": "stream",
     "text": [
      "random for now: 100%|██████████| 255/255 [00:00<00:00, 929.41it/s] \n"
     ]
    },
    {
     "data": {
      "image/png": "[encoded data removed]",
      "text/plain": [
       "<Figure size 640x480 with 1 Axes>"
      ]
     },
     "metadata": {},
     "output_type": "display_data"
    }
   ],
   "source": [
    "import numpy as np\n",
    "from tqdm import tqdm\n",
    "import matplotlib.pyplot as plt\n",
    "\n",
    "payloads = np.array([format(i, 'b') for i in range(255)])\n",
    "\n",
    "\n",
    "print(payloads[:10])\n",
    "\n",
    "distribution = np.zeros(2**8)\n",
    "# payloads = dataset['payload'].to_numpy()\n",
    "for payload in (pbar := tqdm(payloads)):\n",
    "    pbar.set_description('random for now')\n",
    "    # single_bytes = split_string(payload)\n",
    "    #for byte in single_bytes:\n",
    "    distribution[int(payload,2)] += 1\n",
    "plt.hist(distribution, color='lightgreen', ec='black', bins=256)\n",
    "plt.show()    "
   ]
  },
  {
   "cell_type": "code",
   "execution_count": 18,
   "metadata": {},
   "outputs": [
    {
     "data": {
      "image/png": "[encoded data removed]",
      "text/plain": [
       "<Figure size 640x480 with 1 Axes>"
      ]
     },
     "metadata": {},
     "output_type": "display_data"
    }
   ],
   "source": [
    "distribution = np.array([1 for i in range(100)])\n",
    "plt.hist(distribution, color='lightgreen', ec='black', bins=256)\n",
    "plt.show() "
   ]
  },
  {
   "cell_type": "code",
   "execution_count": null,
   "metadata": {},
   "outputs": [],
   "source": []
  }
 ],
 "metadata": {
  "kernelspec": {
   "display_name": "Python 3",
   "language": "python",
   "name": "python3"
  },
  "language_info": {
   "codemirror_mode": {
    "name": "ipython",
    "version": 3
   },
   "file_extension": ".py",
   "mimetype": "text/x-python",
   "name": "python",
   "nbconvert_exporter": "python",
   "pygments_lexer": "ipython3",
   "version": "3.10.6"
  },
  "orig_nbformat": 4
 },
 "nbformat": 4,
 "nbformat_minor": 2
}
